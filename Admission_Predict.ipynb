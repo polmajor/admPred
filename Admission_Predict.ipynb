{
 "cells": [
  {
   "cell_type": "code",
   "execution_count": 1,
   "metadata": {},
   "outputs": [
    {
     "data": {
      "text/plain": [
       "Index(['GRE Score', 'TOEFL Score', 'University Rating', 'SOP', 'LOR ', 'CGPA',\n",
       "       'Research', 'Chance of Admit '],\n",
       "      dtype='object')"
      ]
     },
     "execution_count": 1,
     "metadata": {},
     "output_type": "execute_result"
    }
   ],
   "source": [
    "import pandas as pd\n",
    "import numpy as np\n",
    "\n",
    "df = pd.read_csv(\"Admission_Predict_Ver1.1.csv\")\n",
    "df.drop(\"Serial No.\", inplace=True, axis=1)\n",
    "df.columns"
   ]
  },
  {
   "cell_type": "code",
   "execution_count": 2,
   "metadata": {},
   "outputs": [
    {
     "data": {
      "text/plain": [
       "0.001843174437604736"
      ]
     },
     "execution_count": 2,
     "metadata": {},
     "output_type": "execute_result"
    }
   ],
   "source": [
    "from sklearn.linear_model import LinearRegression as lr\n",
    "from sklearn.tree import DecisionTreeRegressor as dtr\n",
    "\n",
    "x = df.drop(\"Chance of Admit \", axis=1)\n",
    "y = df[\"Chance of Admit \"]\n",
    "\n",
    "#Split train test 80-20\n",
    "x_train = x[:400]\n",
    "x_test = x[400:]\n",
    "y_train = y[:400]\n",
    "y_test = y[400:]\n",
    "\n",
    "#Linear regression model\n",
    "reg = lr().fit(x_train, y_train)\n",
    "rp = reg.predict(x_test)\n",
    "from sklearn.metrics import mean_squared_error\n",
    "error = mean_squared_error(y_test, rp)\n",
    "\n",
    "error"
   ]
  },
  {
   "cell_type": "code",
   "execution_count": 3,
   "metadata": {},
   "outputs": [
    {
     "name": "stdout",
     "output_type": "stream",
     "text": [
      "0.63 vs 0.6053052361975613\n",
      "0.66 vs 0.6549399665175184\n",
      "0.78 vs 0.7822078299902759\n",
      "0.91 vs 0.8628024159545433\n",
      "0.62 vs 0.5754247652589703\n",
      "0.52 vs 0.5163492841488806\n",
      "0.61 vs 0.6479839276307022\n",
      "0.58 vs 0.6186671751039485\n",
      "0.57 vs 0.5881988778652238\n",
      "0.61 vs 0.556793077328747\n",
      "0.54 vs 0.5282037085587488\n",
      "0.56 vs 0.5624954066639314\n",
      "0.59 vs 0.6049895556004339\n",
      "0.49 vs 0.6070493380549185\n",
      "0.72 vs 0.7378106799351904\n"
     ]
    }
   ],
   "source": [
    "i=0\n",
    "#Pretty close predictions\n",
    "for t in list(y_test[:15]):\n",
    "    print(t,\"vs\",rp[i])\n",
    "    i+=1"
   ]
  },
  {
   "cell_type": "code",
   "execution_count": 4,
   "metadata": {},
   "outputs": [
    {
     "data": {
      "text/plain": [
       "0.008154"
      ]
     },
     "execution_count": 4,
     "metadata": {},
     "output_type": "execute_result"
    }
   ],
   "source": [
    "#Regression Tree model\n",
    "reg = dtr(random_state=2019).fit(x_train, y_train)\n",
    "rp = reg.predict(x_test)\n",
    "error = mean_squared_error(y_test, rp)\n",
    "\n",
    "#The error is bigger in this model\n",
    "error"
   ]
  }
 ],
 "metadata": {
  "kernelspec": {
   "display_name": "Python 3",
   "language": "python",
   "name": "python3"
  },
  "language_info": {
   "codemirror_mode": {
    "name": "ipython",
    "version": 3
   },
   "file_extension": ".py",
   "mimetype": "text/x-python",
   "name": "python",
   "nbconvert_exporter": "python",
   "pygments_lexer": "ipython3",
   "version": "3.6.5"
  }
 },
 "nbformat": 4,
 "nbformat_minor": 2
}
